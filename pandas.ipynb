{
 "cells": [
  {
   "cell_type": "code",
   "execution_count": 1,
   "metadata": {
    "collapsed": true
   },
   "outputs": [],
   "source": [
    "import pandas as pd\n",
    "import numpy as np"
   ]
  },
  {
   "cell_type": "code",
   "execution_count": 2,
   "metadata": {},
   "outputs": [
    {
     "data": {
      "text/html": [
       "<div>\n",
       "<table border=\"1\" class=\"dataframe\">\n",
       "  <thead>\n",
       "    <tr style=\"text-align: right;\">\n",
       "      <th></th>\n",
       "      <th>family_name</th>\n",
       "      <th>last_name</th>\n",
       "      <th>gender</th>\n",
       "      <th>age</th>\n",
       "      <th>height</th>\n",
       "    </tr>\n",
       "  </thead>\n",
       "  <tbody>\n",
       "    <tr>\n",
       "      <th>0</th>\n",
       "      <td>Yang</td>\n",
       "      <td>Jerome</td>\n",
       "      <td>M</td>\n",
       "      <td>37</td>\n",
       "      <td>178</td>\n",
       "    </tr>\n",
       "    <tr>\n",
       "      <th>1</th>\n",
       "      <td>Chen</td>\n",
       "      <td>Sammy</td>\n",
       "      <td>F</td>\n",
       "      <td>36</td>\n",
       "      <td>160</td>\n",
       "    </tr>\n",
       "  </tbody>\n",
       "</table>\n",
       "</div>"
      ],
      "text/plain": [
       "  family_name last_name gender  age  height\n",
       "0        Yang    Jerome      M   37     178\n",
       "1        Chen     Sammy      F   36     160"
      ]
     },
     "execution_count": 2,
     "metadata": {},
     "output_type": "execute_result"
    }
   ],
   "source": [
    "# Make a dataframe\n",
    "parents = pd.DataFrame({'family_name': ['Yang', 'Chen'], \n",
    "                              'last_name': ['Jerome', 'Sammy'],\n",
    "                              'gender': ['M', 'F'],\n",
    "                              'age': [37, 36],\n",
    "                              'height': [178, 160],\n",
    "                             }, columns=['family_name', 'last_name', 'gender', 'age', 'height'])\n",
    "\n",
    "parents"
   ]
  },
  {
   "cell_type": "code",
   "execution_count": 3,
   "metadata": {},
   "outputs": [
    {
     "data": {
      "text/html": [
       "<div>\n",
       "<table border=\"1\" class=\"dataframe\">\n",
       "  <thead>\n",
       "    <tr style=\"text-align: right;\">\n",
       "      <th></th>\n",
       "      <th>family_name</th>\n",
       "      <th>last_name</th>\n",
       "      <th>gender</th>\n",
       "      <th>age</th>\n",
       "      <th>height</th>\n",
       "    </tr>\n",
       "  </thead>\n",
       "  <tbody>\n",
       "    <tr>\n",
       "      <th>0</th>\n",
       "      <td>Yang</td>\n",
       "      <td>Kyan</td>\n",
       "      <td>M</td>\n",
       "      <td>8</td>\n",
       "      <td>122</td>\n",
       "    </tr>\n",
       "    <tr>\n",
       "      <th>1</th>\n",
       "      <td>Yang</td>\n",
       "      <td>Janet</td>\n",
       "      <td>F</td>\n",
       "      <td>6</td>\n",
       "      <td>110</td>\n",
       "    </tr>\n",
       "    <tr>\n",
       "      <th>2</th>\n",
       "      <td>Yang</td>\n",
       "      <td>Kyan</td>\n",
       "      <td>M</td>\n",
       "      <td>4</td>\n",
       "      <td>90</td>\n",
       "    </tr>\n",
       "  </tbody>\n",
       "</table>\n",
       "</div>"
      ],
      "text/plain": [
       "  family_name last_name gender  age  height\n",
       "0        Yang      Kyan      M    8     122\n",
       "1        Yang     Janet      F    6     110\n",
       "2        Yang      Kyan      M    4      90"
      ]
     },
     "execution_count": 3,
     "metadata": {},
     "output_type": "execute_result"
    }
   ],
   "source": [
    "## make a new dataframe\n",
    "children = pd.DataFrame({'family_name': ['Yang', 'Yang', 'Yang'], \n",
    "                              'last_name': ['Kyan', 'Janet', 'Kyan'],\n",
    "                              'gender': ['M', 'F', 'M'],\n",
    "                              'age': [8, 6, 4],\n",
    "                              'height': [122, 110, 90],\n",
    "                             }, columns=['family_name', 'last_name', 'gender', 'age', 'height'])\n",
    "children"
   ]
  },
  {
   "cell_type": "code",
   "execution_count": 4,
   "metadata": {},
   "outputs": [
    {
     "data": {
      "text/html": [
       "<div>\n",
       "<table border=\"1\" class=\"dataframe\">\n",
       "  <thead>\n",
       "    <tr style=\"text-align: right;\">\n",
       "      <th></th>\n",
       "      <th>family_name</th>\n",
       "      <th>last_name</th>\n",
       "      <th>gender</th>\n",
       "      <th>age</th>\n",
       "      <th>height</th>\n",
       "    </tr>\n",
       "  </thead>\n",
       "  <tbody>\n",
       "    <tr>\n",
       "      <th>0</th>\n",
       "      <td>Yang</td>\n",
       "      <td>Jerome</td>\n",
       "      <td>M</td>\n",
       "      <td>37</td>\n",
       "      <td>178</td>\n",
       "    </tr>\n",
       "    <tr>\n",
       "      <th>1</th>\n",
       "      <td>Chen</td>\n",
       "      <td>Sammy</td>\n",
       "      <td>F</td>\n",
       "      <td>36</td>\n",
       "      <td>160</td>\n",
       "    </tr>\n",
       "    <tr>\n",
       "      <th>2</th>\n",
       "      <td>Yang</td>\n",
       "      <td>Kyan</td>\n",
       "      <td>M</td>\n",
       "      <td>8</td>\n",
       "      <td>122</td>\n",
       "    </tr>\n",
       "    <tr>\n",
       "      <th>3</th>\n",
       "      <td>Yang</td>\n",
       "      <td>Janet</td>\n",
       "      <td>F</td>\n",
       "      <td>6</td>\n",
       "      <td>110</td>\n",
       "    </tr>\n",
       "    <tr>\n",
       "      <th>4</th>\n",
       "      <td>Yang</td>\n",
       "      <td>Kyan</td>\n",
       "      <td>M</td>\n",
       "      <td>4</td>\n",
       "      <td>90</td>\n",
       "    </tr>\n",
       "  </tbody>\n",
       "</table>\n",
       "</div>"
      ],
      "text/plain": [
       "  family_name last_name gender  age  height\n",
       "0        Yang    Jerome      M   37     178\n",
       "1        Chen     Sammy      F   36     160\n",
       "2        Yang      Kyan      M    8     122\n",
       "3        Yang     Janet      F    6     110\n",
       "4        Yang      Kyan      M    4      90"
      ]
     },
     "execution_count": 4,
     "metadata": {},
     "output_type": "execute_result"
    }
   ],
   "source": [
    "# append rows\n",
    "family = parents.append(children, ignore_index=True)\n",
    "family"
   ]
  },
  {
   "cell_type": "code",
   "execution_count": 5,
   "metadata": {},
   "outputs": [
    {
     "data": {
      "text/html": [
       "<div>\n",
       "<table border=\"1\" class=\"dataframe\">\n",
       "  <thead>\n",
       "    <tr style=\"text-align: right;\">\n",
       "      <th></th>\n",
       "      <th>family_name</th>\n",
       "      <th>last_name</th>\n",
       "      <th>gender</th>\n",
       "      <th>age</th>\n",
       "      <th>height</th>\n",
       "      <th>weight</th>\n",
       "    </tr>\n",
       "  </thead>\n",
       "  <tbody>\n",
       "    <tr>\n",
       "      <th>0</th>\n",
       "      <td>Yang</td>\n",
       "      <td>Jerome</td>\n",
       "      <td>M</td>\n",
       "      <td>37</td>\n",
       "      <td>178</td>\n",
       "      <td>72</td>\n",
       "    </tr>\n",
       "    <tr>\n",
       "      <th>1</th>\n",
       "      <td>Chen</td>\n",
       "      <td>Sammy</td>\n",
       "      <td>F</td>\n",
       "      <td>36</td>\n",
       "      <td>160</td>\n",
       "      <td>56</td>\n",
       "    </tr>\n",
       "    <tr>\n",
       "      <th>2</th>\n",
       "      <td>Yang</td>\n",
       "      <td>Kyan</td>\n",
       "      <td>M</td>\n",
       "      <td>8</td>\n",
       "      <td>122</td>\n",
       "      <td>26</td>\n",
       "    </tr>\n",
       "    <tr>\n",
       "      <th>3</th>\n",
       "      <td>Yang</td>\n",
       "      <td>Janet</td>\n",
       "      <td>F</td>\n",
       "      <td>6</td>\n",
       "      <td>110</td>\n",
       "      <td>22</td>\n",
       "    </tr>\n",
       "    <tr>\n",
       "      <th>4</th>\n",
       "      <td>Yang</td>\n",
       "      <td>Kyan</td>\n",
       "      <td>M</td>\n",
       "      <td>4</td>\n",
       "      <td>90</td>\n",
       "      <td>19</td>\n",
       "    </tr>\n",
       "  </tbody>\n",
       "</table>\n",
       "</div>"
      ],
      "text/plain": [
       "  family_name last_name gender  age  height  weight\n",
       "0        Yang    Jerome      M   37     178      72\n",
       "1        Chen     Sammy      F   36     160      56\n",
       "2        Yang      Kyan      M    8     122      26\n",
       "3        Yang     Janet      F    6     110      22\n",
       "4        Yang      Kyan      M    4      90      19"
      ]
     },
     "execution_count": 5,
     "metadata": {},
     "output_type": "execute_result"
    }
   ],
   "source": [
    "# assign a new column\n",
    "family = family.assign(weight=[72, 56, 26, 22, 19])\n",
    "family"
   ]
  },
  {
   "cell_type": "code",
   "execution_count": 6,
   "metadata": {},
   "outputs": [
    {
     "data": {
      "text/html": [
       "<div>\n",
       "<table border=\"1\" class=\"dataframe\">\n",
       "  <thead>\n",
       "    <tr style=\"text-align: right;\">\n",
       "      <th></th>\n",
       "      <th>family_name</th>\n",
       "      <th>gender</th>\n",
       "      <th>age</th>\n",
       "      <th>height</th>\n",
       "      <th>weight</th>\n",
       "    </tr>\n",
       "    <tr>\n",
       "      <th>last_name</th>\n",
       "      <th></th>\n",
       "      <th></th>\n",
       "      <th></th>\n",
       "      <th></th>\n",
       "      <th></th>\n",
       "    </tr>\n",
       "  </thead>\n",
       "  <tbody>\n",
       "    <tr>\n",
       "      <th>Jerome</th>\n",
       "      <td>Yang</td>\n",
       "      <td>M</td>\n",
       "      <td>37</td>\n",
       "      <td>178</td>\n",
       "      <td>72</td>\n",
       "    </tr>\n",
       "    <tr>\n",
       "      <th>Sammy</th>\n",
       "      <td>Chen</td>\n",
       "      <td>F</td>\n",
       "      <td>36</td>\n",
       "      <td>160</td>\n",
       "      <td>56</td>\n",
       "    </tr>\n",
       "    <tr>\n",
       "      <th>Kyan</th>\n",
       "      <td>Yang</td>\n",
       "      <td>M</td>\n",
       "      <td>8</td>\n",
       "      <td>122</td>\n",
       "      <td>26</td>\n",
       "    </tr>\n",
       "    <tr>\n",
       "      <th>Janet</th>\n",
       "      <td>Yang</td>\n",
       "      <td>F</td>\n",
       "      <td>6</td>\n",
       "      <td>110</td>\n",
       "      <td>22</td>\n",
       "    </tr>\n",
       "    <tr>\n",
       "      <th>Kyan</th>\n",
       "      <td>Yang</td>\n",
       "      <td>M</td>\n",
       "      <td>4</td>\n",
       "      <td>90</td>\n",
       "      <td>19</td>\n",
       "    </tr>\n",
       "  </tbody>\n",
       "</table>\n",
       "</div>"
      ],
      "text/plain": [
       "          family_name gender  age  height  weight\n",
       "last_name                                        \n",
       "Jerome           Yang      M   37     178      72\n",
       "Sammy            Chen      F   36     160      56\n",
       "Kyan             Yang      M    8     122      26\n",
       "Janet            Yang      F    6     110      22\n",
       "Kyan             Yang      M    4      90      19"
      ]
     },
     "execution_count": 6,
     "metadata": {},
     "output_type": "execute_result"
    }
   ],
   "source": [
    "# set index from given column name\n",
    "family.set_index('last_name')\n"
   ]
  },
  {
   "cell_type": "code",
   "execution_count": 7,
   "metadata": {},
   "outputs": [
    {
     "data": {
      "text/html": [
       "<div>\n",
       "<table border=\"1\" class=\"dataframe\">\n",
       "  <thead>\n",
       "    <tr style=\"text-align: right;\">\n",
       "      <th></th>\n",
       "      <th>family_name</th>\n",
       "      <th>last_name</th>\n",
       "      <th>gender</th>\n",
       "      <th>age</th>\n",
       "      <th>height</th>\n",
       "      <th>weight</th>\n",
       "    </tr>\n",
       "    <tr>\n",
       "      <th>last_name</th>\n",
       "      <th></th>\n",
       "      <th></th>\n",
       "      <th></th>\n",
       "      <th></th>\n",
       "      <th></th>\n",
       "      <th></th>\n",
       "    </tr>\n",
       "  </thead>\n",
       "  <tbody>\n",
       "    <tr>\n",
       "      <th>Jerome</th>\n",
       "      <td>Yang</td>\n",
       "      <td>Jerome</td>\n",
       "      <td>M</td>\n",
       "      <td>37</td>\n",
       "      <td>178</td>\n",
       "      <td>72</td>\n",
       "    </tr>\n",
       "    <tr>\n",
       "      <th>Sammy</th>\n",
       "      <td>Chen</td>\n",
       "      <td>Sammy</td>\n",
       "      <td>F</td>\n",
       "      <td>36</td>\n",
       "      <td>160</td>\n",
       "      <td>56</td>\n",
       "    </tr>\n",
       "    <tr>\n",
       "      <th>Kyan</th>\n",
       "      <td>Yang</td>\n",
       "      <td>Kyan</td>\n",
       "      <td>M</td>\n",
       "      <td>8</td>\n",
       "      <td>122</td>\n",
       "      <td>26</td>\n",
       "    </tr>\n",
       "    <tr>\n",
       "      <th>Janet</th>\n",
       "      <td>Yang</td>\n",
       "      <td>Janet</td>\n",
       "      <td>F</td>\n",
       "      <td>6</td>\n",
       "      <td>110</td>\n",
       "      <td>22</td>\n",
       "    </tr>\n",
       "    <tr>\n",
       "      <th>Kyan</th>\n",
       "      <td>Yang</td>\n",
       "      <td>Kyan</td>\n",
       "      <td>M</td>\n",
       "      <td>4</td>\n",
       "      <td>90</td>\n",
       "      <td>19</td>\n",
       "    </tr>\n",
       "  </tbody>\n",
       "</table>\n",
       "</div>"
      ],
      "text/plain": [
       "          family_name last_name gender  age  height  weight\n",
       "last_name                                                  \n",
       "Jerome           Yang    Jerome      M   37     178      72\n",
       "Sammy            Chen     Sammy      F   36     160      56\n",
       "Kyan             Yang      Kyan      M    8     122      26\n",
       "Janet            Yang     Janet      F    6     110      22\n",
       "Kyan             Yang      Kyan      M    4      90      19"
      ]
     },
     "execution_count": 7,
     "metadata": {},
     "output_type": "execute_result"
    }
   ],
   "source": [
    "# set index from given column name and kept this column\n",
    "family = family.set_index('last_name', drop=False)\n",
    "family"
   ]
  },
  {
   "cell_type": "code",
   "execution_count": 8,
   "metadata": {},
   "outputs": [
    {
     "data": {
      "text/plain": [
       "last_name\n",
       "Jerome    Jerome\n",
       "Sammy      Sammy\n",
       "Kyan        Kyan\n",
       "Janet      Janet\n",
       "Kyan        Kyan\n",
       "Name: last_name, dtype: object"
      ]
     },
     "execution_count": 8,
     "metadata": {},
     "output_type": "execute_result"
    }
   ],
   "source": [
    "# select a column as a series\n",
    "family['last_name']"
   ]
  },
  {
   "cell_type": "code",
   "execution_count": 9,
   "metadata": {},
   "outputs": [
    {
     "data": {
      "text/html": [
       "<div>\n",
       "<table border=\"1\" class=\"dataframe\">\n",
       "  <thead>\n",
       "    <tr style=\"text-align: right;\">\n",
       "      <th></th>\n",
       "      <th>last_name</th>\n",
       "    </tr>\n",
       "    <tr>\n",
       "      <th>last_name</th>\n",
       "      <th></th>\n",
       "    </tr>\n",
       "  </thead>\n",
       "  <tbody>\n",
       "    <tr>\n",
       "      <th>Jerome</th>\n",
       "      <td>Jerome</td>\n",
       "    </tr>\n",
       "    <tr>\n",
       "      <th>Sammy</th>\n",
       "      <td>Sammy</td>\n",
       "    </tr>\n",
       "    <tr>\n",
       "      <th>Kyan</th>\n",
       "      <td>Kyan</td>\n",
       "    </tr>\n",
       "    <tr>\n",
       "      <th>Janet</th>\n",
       "      <td>Janet</td>\n",
       "    </tr>\n",
       "    <tr>\n",
       "      <th>Kyan</th>\n",
       "      <td>Kyan</td>\n",
       "    </tr>\n",
       "  </tbody>\n",
       "</table>\n",
       "</div>"
      ],
      "text/plain": [
       "          last_name\n",
       "last_name          \n",
       "Jerome       Jerome\n",
       "Sammy         Sammy\n",
       "Kyan           Kyan\n",
       "Janet         Janet\n",
       "Kyan           Kyan"
      ]
     },
     "execution_count": 9,
     "metadata": {},
     "output_type": "execute_result"
    }
   ],
   "source": [
    "# select a column as a dataframe\n",
    "family[['last_name']]"
   ]
  },
  {
   "cell_type": "code",
   "execution_count": 10,
   "metadata": {},
   "outputs": [
    {
     "data": {
      "text/html": [
       "<div>\n",
       "<table border=\"1\" class=\"dataframe\">\n",
       "  <thead>\n",
       "    <tr style=\"text-align: right;\">\n",
       "      <th></th>\n",
       "      <th>last_name</th>\n",
       "      <th>height</th>\n",
       "    </tr>\n",
       "    <tr>\n",
       "      <th>last_name</th>\n",
       "      <th></th>\n",
       "      <th></th>\n",
       "    </tr>\n",
       "  </thead>\n",
       "  <tbody>\n",
       "    <tr>\n",
       "      <th>Jerome</th>\n",
       "      <td>Jerome</td>\n",
       "      <td>178</td>\n",
       "    </tr>\n",
       "    <tr>\n",
       "      <th>Sammy</th>\n",
       "      <td>Sammy</td>\n",
       "      <td>160</td>\n",
       "    </tr>\n",
       "    <tr>\n",
       "      <th>Kyan</th>\n",
       "      <td>Kyan</td>\n",
       "      <td>122</td>\n",
       "    </tr>\n",
       "    <tr>\n",
       "      <th>Janet</th>\n",
       "      <td>Janet</td>\n",
       "      <td>110</td>\n",
       "    </tr>\n",
       "    <tr>\n",
       "      <th>Kyan</th>\n",
       "      <td>Kyan</td>\n",
       "      <td>90</td>\n",
       "    </tr>\n",
       "  </tbody>\n",
       "</table>\n",
       "</div>"
      ],
      "text/plain": [
       "          last_name  height\n",
       "last_name                  \n",
       "Jerome       Jerome     178\n",
       "Sammy         Sammy     160\n",
       "Kyan           Kyan     122\n",
       "Janet         Janet     110\n",
       "Kyan           Kyan      90"
      ]
     },
     "execution_count": 10,
     "metadata": {},
     "output_type": "execute_result"
    }
   ],
   "source": [
    "# select several columns as a dataframe\n",
    "family[['last_name', 'height']]"
   ]
  },
  {
   "cell_type": "code",
   "execution_count": 13,
   "metadata": {
    "scrolled": true
   },
   "outputs": [
    {
     "data": {
      "text/plain": [
       "family_name      Yang\n",
       "last_name      Jerome\n",
       "gender              M\n",
       "age                37\n",
       "height            178\n",
       "weight             72\n",
       "Name: Jerome, dtype: object"
      ]
     },
     "execution_count": 13,
     "metadata": {},
     "output_type": "execute_result"
    }
   ],
   "source": [
    "# select a row as a series by its label\n",
    "family.loc['Jerome']"
   ]
  },
  {
   "cell_type": "code",
   "execution_count": 12,
   "metadata": {
    "scrolled": true
   },
   "outputs": [
    {
     "data": {
      "text/plain": [
       "family_name      Yang\n",
       "last_name      Jerome\n",
       "gender              M\n",
       "age                37\n",
       "height            178\n",
       "weight             72\n",
       "Name: Jerome, dtype: object"
      ]
     },
     "execution_count": 12,
     "metadata": {},
     "output_type": "execute_result"
    }
   ],
   "source": [
    "# select a row as a series by its index\n",
    "family.iloc[0]"
   ]
  },
  {
   "cell_type": "code",
   "execution_count": 24,
   "metadata": {},
   "outputs": [
    {
     "data": {
      "text/plain": [
       "family_name      Yang\n",
       "last_name      Jerome\n",
       "gender              M\n",
       "age                37\n",
       "height            178\n",
       "weight             72\n",
       "Name: Jerome, dtype: object"
      ]
     },
     "execution_count": 24,
     "metadata": {},
     "output_type": "execute_result"
    }
   ],
   "source": [
    "# select a row by its label or index\n",
    "# .ix will try .loc first, and fallback to iloc if no matched label\n",
    "# So, the behavior of .ix is a little bit tricky \n",
    "# see http://stackoverflow.com/questions/31593201/pandas-iloc-vs-ix-vs-loc-explanation\n",
    "# The results of below two are equal\n",
    "family.ix['Jerome']\n",
    "family.ix[0]"
   ]
  },
  {
   "cell_type": "code",
   "execution_count": 9,
   "metadata": {
    "scrolled": true
   },
   "outputs": [
    {
     "data": {
      "text/html": [
       "<div>\n",
       "<table border=\"1\" class=\"dataframe\">\n",
       "  <thead>\n",
       "    <tr style=\"text-align: right;\">\n",
       "      <th></th>\n",
       "      <th>family_name</th>\n",
       "      <th>last_name</th>\n",
       "      <th>gender</th>\n",
       "      <th>age</th>\n",
       "      <th>height</th>\n",
       "      <th>weight</th>\n",
       "    </tr>\n",
       "  </thead>\n",
       "  <tbody>\n",
       "    <tr>\n",
       "      <th>0</th>\n",
       "      <td>Yang</td>\n",
       "      <td>Jerome</td>\n",
       "      <td>M</td>\n",
       "      <td>37</td>\n",
       "      <td>178</td>\n",
       "      <td>72</td>\n",
       "    </tr>\n",
       "    <tr>\n",
       "      <th>3</th>\n",
       "      <td>Yang</td>\n",
       "      <td>Janet</td>\n",
       "      <td>F</td>\n",
       "      <td>6</td>\n",
       "      <td>110</td>\n",
       "      <td>22</td>\n",
       "    </tr>\n",
       "  </tbody>\n",
       "</table>\n",
       "</div>"
      ],
      "text/plain": [
       "  family_name last_name gender  age  height  weight\n",
       "0        Yang    Jerome      M   37     178      72\n",
       "3        Yang     Janet      F    6     110      22"
      ]
     },
     "execution_count": 9,
     "metadata": {},
     "output_type": "execute_result"
    }
   ],
   "source": [
    "# select several rows as a dataframe\n",
    "family.ix[[0,3]]"
   ]
  },
  {
   "cell_type": "code",
   "execution_count": 26,
   "metadata": {},
   "outputs": [
    {
     "data": {
      "text/plain": [
       "178"
      ]
     },
     "execution_count": 26,
     "metadata": {},
     "output_type": "execute_result"
    }
   ],
   "source": [
    "# select a cell by its label, very fast function\n",
    "family.at['Jerome', 'height']\n"
   ]
  },
  {
   "cell_type": "code",
   "execution_count": 28,
   "metadata": {},
   "outputs": [
    {
     "data": {
      "text/plain": [
       "178"
      ]
     },
     "execution_count": 28,
     "metadata": {},
     "output_type": "execute_result"
    }
   ],
   "source": [
    "# select a cell by its index, very fast function\n",
    "family.iat[0, 4]"
   ]
  },
  {
   "cell_type": "code",
   "execution_count": 36,
   "metadata": {},
   "outputs": [
    {
     "data": {
      "text/html": [
       "<div>\n",
       "<table border=\"1\" class=\"dataframe\">\n",
       "  <thead>\n",
       "    <tr style=\"text-align: right;\">\n",
       "      <th></th>\n",
       "      <th>family_name</th>\n",
       "      <th>last_name</th>\n",
       "      <th>gender</th>\n",
       "      <th>age</th>\n",
       "      <th>height</th>\n",
       "      <th>weight</th>\n",
       "    </tr>\n",
       "  </thead>\n",
       "  <tbody>\n",
       "    <tr>\n",
       "      <th>0</th>\n",
       "      <td>Yang</td>\n",
       "      <td>Jerome</td>\n",
       "      <td>M</td>\n",
       "      <td>37</td>\n",
       "      <td>178</td>\n",
       "      <td>72</td>\n",
       "    </tr>\n",
       "    <tr>\n",
       "      <th>1</th>\n",
       "      <td>Chen</td>\n",
       "      <td>Sammy</td>\n",
       "      <td>F</td>\n",
       "      <td>36</td>\n",
       "      <td>160</td>\n",
       "      <td>56</td>\n",
       "    </tr>\n",
       "    <tr>\n",
       "      <th>2</th>\n",
       "      <td>Yang</td>\n",
       "      <td>Kyan</td>\n",
       "      <td>M</td>\n",
       "      <td>8</td>\n",
       "      <td>122</td>\n",
       "      <td>26</td>\n",
       "    </tr>\n",
       "    <tr>\n",
       "      <th>3</th>\n",
       "      <td>Yang</td>\n",
       "      <td>Janet</td>\n",
       "      <td>F</td>\n",
       "      <td>6</td>\n",
       "      <td>110</td>\n",
       "      <td>22</td>\n",
       "    </tr>\n",
       "    <tr>\n",
       "      <th>4</th>\n",
       "      <td>Yang</td>\n",
       "      <td>Kyan</td>\n",
       "      <td>M</td>\n",
       "      <td>4</td>\n",
       "      <td>90</td>\n",
       "      <td>19</td>\n",
       "    </tr>\n",
       "  </tbody>\n",
       "</table>\n",
       "</div>"
      ],
      "text/plain": [
       "  family_name last_name gender  age  height  weight\n",
       "0        Yang    Jerome      M   37     178      72\n",
       "1        Chen     Sammy      F   36     160      56\n",
       "2        Yang      Kyan      M    8     122      26\n",
       "3        Yang     Janet      F    6     110      22\n",
       "4        Yang      Kyan      M    4      90      19"
      ]
     },
     "execution_count": 36,
     "metadata": {},
     "output_type": "execute_result"
    }
   ],
   "source": [
    "# make simple integer index\n",
    "# (if we want to keep the original index, just use the default setting of drop=False)\n",
    "family = family.reset_index(drop=True)\n",
    "family "
   ]
  },
  {
   "cell_type": "code",
   "execution_count": 37,
   "metadata": {},
   "outputs": [
    {
     "data": {
      "text/plain": [
       "0    J\n",
       "1    S\n",
       "2    K\n",
       "3    J\n",
       "4    K\n",
       "Name: last_name, dtype: object"
      ]
     },
     "execution_count": 37,
     "metadata": {},
     "output_type": "execute_result"
    }
   ],
   "source": [
    "# apply a function on single column\n",
    "def firstchar(string):\n",
    "    return string[0]\n",
    "family['last_name'].apply(firstchar)"
   ]
  },
  {
   "cell_type": "code",
   "execution_count": 38,
   "metadata": {},
   "outputs": [
    {
     "data": {
      "text/html": [
       "<div>\n",
       "<table border=\"1\" class=\"dataframe\">\n",
       "  <thead>\n",
       "    <tr style=\"text-align: right;\">\n",
       "      <th></th>\n",
       "      <th>family_name</th>\n",
       "      <th>last_name</th>\n",
       "      <th>gender</th>\n",
       "      <th>age</th>\n",
       "      <th>height</th>\n",
       "      <th>weight</th>\n",
       "      <th>first_char</th>\n",
       "    </tr>\n",
       "  </thead>\n",
       "  <tbody>\n",
       "    <tr>\n",
       "      <th>0</th>\n",
       "      <td>Yang</td>\n",
       "      <td>Jerome</td>\n",
       "      <td>M</td>\n",
       "      <td>37</td>\n",
       "      <td>178</td>\n",
       "      <td>72</td>\n",
       "      <td>J</td>\n",
       "    </tr>\n",
       "    <tr>\n",
       "      <th>1</th>\n",
       "      <td>Chen</td>\n",
       "      <td>Sammy</td>\n",
       "      <td>F</td>\n",
       "      <td>36</td>\n",
       "      <td>160</td>\n",
       "      <td>56</td>\n",
       "      <td>S</td>\n",
       "    </tr>\n",
       "    <tr>\n",
       "      <th>2</th>\n",
       "      <td>Yang</td>\n",
       "      <td>Kyan</td>\n",
       "      <td>M</td>\n",
       "      <td>8</td>\n",
       "      <td>122</td>\n",
       "      <td>26</td>\n",
       "      <td>K</td>\n",
       "    </tr>\n",
       "    <tr>\n",
       "      <th>3</th>\n",
       "      <td>Yang</td>\n",
       "      <td>Janet</td>\n",
       "      <td>F</td>\n",
       "      <td>6</td>\n",
       "      <td>110</td>\n",
       "      <td>22</td>\n",
       "      <td>J</td>\n",
       "    </tr>\n",
       "    <tr>\n",
       "      <th>4</th>\n",
       "      <td>Yang</td>\n",
       "      <td>Kyan</td>\n",
       "      <td>M</td>\n",
       "      <td>4</td>\n",
       "      <td>90</td>\n",
       "      <td>19</td>\n",
       "      <td>K</td>\n",
       "    </tr>\n",
       "  </tbody>\n",
       "</table>\n",
       "</div>"
      ],
      "text/plain": [
       "  family_name last_name gender  age  height  weight first_char\n",
       "0        Yang    Jerome      M   37     178      72          J\n",
       "1        Chen     Sammy      F   36     160      56          S\n",
       "2        Yang      Kyan      M    8     122      26          K\n",
       "3        Yang     Janet      F    6     110      22          J\n",
       "4        Yang      Kyan      M    4      90      19          K"
      ]
     },
     "execution_count": 38,
     "metadata": {},
     "output_type": "execute_result"
    }
   ],
   "source": [
    "# assign a new column for the function's output\n",
    "firstchar_series = family['last_name'].apply(firstchar)\n",
    "family.assign(first_char=firstchar_series)"
   ]
  },
  {
   "cell_type": "code",
   "execution_count": 39,
   "metadata": {},
   "outputs": [
    {
     "data": {
      "text/plain": [
       "0    Yang Jerome\n",
       "1     Chen Sammy\n",
       "2      Yang Kyan\n",
       "3     Yang Janet\n",
       "4      Yang Kyan\n",
       "dtype: object"
      ]
     },
     "execution_count": 39,
     "metadata": {},
     "output_type": "execute_result"
    }
   ],
   "source": [
    "# apply a function related to several columns\n",
    "\n",
    "def join(strings):\n",
    "    # strings is a series (of strings), not a list (of strings)\n",
    "    return ' '.join(strings)\n",
    "\n",
    "family[['family_name', 'last_name']].apply(join, axis=1)"
   ]
  },
  {
   "cell_type": "code",
   "execution_count": 40,
   "metadata": {},
   "outputs": [
    {
     "data": {
      "text/plain": [
       "0    22.724403\n",
       "1    21.875000\n",
       "2    17.468422\n",
       "3    18.181818\n",
       "4    23.456790\n",
       "dtype: float64"
      ]
     },
     "execution_count": 40,
     "metadata": {},
     "output_type": "execute_result"
    }
   ],
   "source": [
    "# apply a function with a row as parameter\n",
    "def bmi(weight_and_height):\n",
    "    # weight_and_height is a series, not list\n",
    "    weight = weight_and_height[0]\n",
    "    height = weight_and_height[1]\n",
    "    height_in_meter = height / 100\n",
    "    bmi = weight / (height_in_meter ** 2)\n",
    "    return bmi\n",
    "\n",
    "bmiseries = family[['weight', 'height']].apply(bmi, axis=1)\n",
    "bmiseries"
   ]
  },
  {
   "cell_type": "code",
   "execution_count": 41,
   "metadata": {},
   "outputs": [
    {
     "data": {
      "text/html": [
       "<div>\n",
       "<table border=\"1\" class=\"dataframe\">\n",
       "  <thead>\n",
       "    <tr style=\"text-align: right;\">\n",
       "      <th></th>\n",
       "      <th>family_name</th>\n",
       "      <th>last_name</th>\n",
       "      <th>gender</th>\n",
       "      <th>age</th>\n",
       "      <th>height</th>\n",
       "      <th>weight</th>\n",
       "      <th>bmi</th>\n",
       "    </tr>\n",
       "  </thead>\n",
       "  <tbody>\n",
       "    <tr>\n",
       "      <th>0</th>\n",
       "      <td>Yang</td>\n",
       "      <td>Jerome</td>\n",
       "      <td>M</td>\n",
       "      <td>37</td>\n",
       "      <td>178</td>\n",
       "      <td>72</td>\n",
       "      <td>22.724403</td>\n",
       "    </tr>\n",
       "    <tr>\n",
       "      <th>1</th>\n",
       "      <td>Chen</td>\n",
       "      <td>Sammy</td>\n",
       "      <td>F</td>\n",
       "      <td>36</td>\n",
       "      <td>160</td>\n",
       "      <td>56</td>\n",
       "      <td>21.875000</td>\n",
       "    </tr>\n",
       "    <tr>\n",
       "      <th>2</th>\n",
       "      <td>Yang</td>\n",
       "      <td>Kyan</td>\n",
       "      <td>M</td>\n",
       "      <td>8</td>\n",
       "      <td>122</td>\n",
       "      <td>26</td>\n",
       "      <td>17.468422</td>\n",
       "    </tr>\n",
       "    <tr>\n",
       "      <th>3</th>\n",
       "      <td>Yang</td>\n",
       "      <td>Janet</td>\n",
       "      <td>F</td>\n",
       "      <td>6</td>\n",
       "      <td>110</td>\n",
       "      <td>22</td>\n",
       "      <td>18.181818</td>\n",
       "    </tr>\n",
       "    <tr>\n",
       "      <th>4</th>\n",
       "      <td>Yang</td>\n",
       "      <td>Kyan</td>\n",
       "      <td>M</td>\n",
       "      <td>4</td>\n",
       "      <td>90</td>\n",
       "      <td>19</td>\n",
       "      <td>23.456790</td>\n",
       "    </tr>\n",
       "  </tbody>\n",
       "</table>\n",
       "</div>"
      ],
      "text/plain": [
       "  family_name last_name gender  age  height  weight        bmi\n",
       "0        Yang    Jerome      M   37     178      72  22.724403\n",
       "1        Chen     Sammy      F   36     160      56  21.875000\n",
       "2        Yang      Kyan      M    8     122      26  17.468422\n",
       "3        Yang     Janet      F    6     110      22  18.181818\n",
       "4        Yang      Kyan      M    4      90      19  23.456790"
      ]
     },
     "execution_count": 41,
     "metadata": {},
     "output_type": "execute_result"
    }
   ],
   "source": [
    "# assign calculated bmi to a new column\n",
    "family.assign(bmi=bmiseries)"
   ]
  },
  {
   "cell_type": "code",
   "execution_count": 42,
   "metadata": {},
   "outputs": [
    {
     "data": {
      "text/html": [
       "<div>\n",
       "<table border=\"1\" class=\"dataframe\">\n",
       "  <thead>\n",
       "    <tr style=\"text-align: right;\">\n",
       "      <th></th>\n",
       "      <th>blank1</th>\n",
       "      <th>blank2</th>\n",
       "    </tr>\n",
       "  </thead>\n",
       "  <tbody>\n",
       "  </tbody>\n",
       "</table>\n",
       "</div>"
      ],
      "text/plain": [
       "Empty DataFrame\n",
       "Columns: [blank1, blank2]\n",
       "Index: []"
      ]
     },
     "execution_count": 42,
     "metadata": {},
     "output_type": "execute_result"
    }
   ],
   "source": [
    "# add blank cells in the leftest column\n",
    "blank = pd.DataFrame([], columns=['blank1', 'blank2']); blank\n"
   ]
  },
  {
   "cell_type": "code",
   "execution_count": 43,
   "metadata": {
    "scrolled": true
   },
   "outputs": [
    {
     "data": {
      "text/html": [
       "<div>\n",
       "<table border=\"1\" class=\"dataframe\">\n",
       "  <thead>\n",
       "    <tr style=\"text-align: right;\">\n",
       "      <th></th>\n",
       "      <th>age</th>\n",
       "      <th>blank1</th>\n",
       "      <th>blank2</th>\n",
       "      <th>family_name</th>\n",
       "      <th>gender</th>\n",
       "      <th>height</th>\n",
       "      <th>last_name</th>\n",
       "      <th>weight</th>\n",
       "    </tr>\n",
       "  </thead>\n",
       "  <tbody>\n",
       "    <tr>\n",
       "      <th>0</th>\n",
       "      <td>37</td>\n",
       "      <td>NaN</td>\n",
       "      <td>NaN</td>\n",
       "      <td>Yang</td>\n",
       "      <td>M</td>\n",
       "      <td>178</td>\n",
       "      <td>Jerome</td>\n",
       "      <td>72</td>\n",
       "    </tr>\n",
       "    <tr>\n",
       "      <th>1</th>\n",
       "      <td>36</td>\n",
       "      <td>NaN</td>\n",
       "      <td>NaN</td>\n",
       "      <td>Chen</td>\n",
       "      <td>F</td>\n",
       "      <td>160</td>\n",
       "      <td>Sammy</td>\n",
       "      <td>56</td>\n",
       "    </tr>\n",
       "    <tr>\n",
       "      <th>2</th>\n",
       "      <td>8</td>\n",
       "      <td>NaN</td>\n",
       "      <td>NaN</td>\n",
       "      <td>Yang</td>\n",
       "      <td>M</td>\n",
       "      <td>122</td>\n",
       "      <td>Kyan</td>\n",
       "      <td>26</td>\n",
       "    </tr>\n",
       "    <tr>\n",
       "      <th>3</th>\n",
       "      <td>6</td>\n",
       "      <td>NaN</td>\n",
       "      <td>NaN</td>\n",
       "      <td>Yang</td>\n",
       "      <td>F</td>\n",
       "      <td>110</td>\n",
       "      <td>Janet</td>\n",
       "      <td>22</td>\n",
       "    </tr>\n",
       "    <tr>\n",
       "      <th>4</th>\n",
       "      <td>4</td>\n",
       "      <td>NaN</td>\n",
       "      <td>NaN</td>\n",
       "      <td>Yang</td>\n",
       "      <td>M</td>\n",
       "      <td>90</td>\n",
       "      <td>Kyan</td>\n",
       "      <td>19</td>\n",
       "    </tr>\n",
       "  </tbody>\n",
       "</table>\n",
       "</div>"
      ],
      "text/plain": [
       "   age blank1 blank2 family_name gender  height last_name  weight\n",
       "0   37    NaN    NaN        Yang      M     178    Jerome      72\n",
       "1   36    NaN    NaN        Chen      F     160     Sammy      56\n",
       "2    8    NaN    NaN        Yang      M     122      Kyan      26\n",
       "3    6    NaN    NaN        Yang      F     110     Janet      22\n",
       "4    4    NaN    NaN        Yang      M      90      Kyan      19"
      ]
     },
     "execution_count": 43,
     "metadata": {},
     "output_type": "execute_result"
    }
   ],
   "source": [
    "# do this\n",
    "blank.append(family)"
   ]
  },
  {
   "cell_type": "code",
   "execution_count": 44,
   "metadata": {},
   "outputs": [
    {
     "data": {
      "text/html": [
       "<div>\n",
       "<table border=\"1\" class=\"dataframe\">\n",
       "  <thead>\n",
       "    <tr style=\"text-align: right;\">\n",
       "      <th></th>\n",
       "      <th>age</th>\n",
       "      <th>blank1</th>\n",
       "      <th>blank2</th>\n",
       "      <th>family_name</th>\n",
       "      <th>gender</th>\n",
       "      <th>height</th>\n",
       "      <th>last_name</th>\n",
       "      <th>weight</th>\n",
       "    </tr>\n",
       "  </thead>\n",
       "  <tbody>\n",
       "    <tr>\n",
       "      <th>0</th>\n",
       "      <td>37</td>\n",
       "      <td>NaN</td>\n",
       "      <td>NaN</td>\n",
       "      <td>Yang</td>\n",
       "      <td>M</td>\n",
       "      <td>178</td>\n",
       "      <td>Jerome</td>\n",
       "      <td>72</td>\n",
       "    </tr>\n",
       "    <tr>\n",
       "      <th>1</th>\n",
       "      <td>36</td>\n",
       "      <td>NaN</td>\n",
       "      <td>NaN</td>\n",
       "      <td>Chen</td>\n",
       "      <td>F</td>\n",
       "      <td>160</td>\n",
       "      <td>Sammy</td>\n",
       "      <td>56</td>\n",
       "    </tr>\n",
       "    <tr>\n",
       "      <th>2</th>\n",
       "      <td>8</td>\n",
       "      <td>NaN</td>\n",
       "      <td>NaN</td>\n",
       "      <td>Yang</td>\n",
       "      <td>M</td>\n",
       "      <td>122</td>\n",
       "      <td>Kyan</td>\n",
       "      <td>26</td>\n",
       "    </tr>\n",
       "    <tr>\n",
       "      <th>3</th>\n",
       "      <td>6</td>\n",
       "      <td>NaN</td>\n",
       "      <td>NaN</td>\n",
       "      <td>Yang</td>\n",
       "      <td>F</td>\n",
       "      <td>110</td>\n",
       "      <td>Janet</td>\n",
       "      <td>22</td>\n",
       "    </tr>\n",
       "    <tr>\n",
       "      <th>4</th>\n",
       "      <td>4</td>\n",
       "      <td>NaN</td>\n",
       "      <td>NaN</td>\n",
       "      <td>Yang</td>\n",
       "      <td>M</td>\n",
       "      <td>90</td>\n",
       "      <td>Kyan</td>\n",
       "      <td>19</td>\n",
       "    </tr>\n",
       "  </tbody>\n",
       "</table>\n",
       "</div>"
      ],
      "text/plain": [
       "   age blank1 blank2 family_name gender  height last_name  weight\n",
       "0   37    NaN    NaN        Yang      M     178    Jerome      72\n",
       "1   36    NaN    NaN        Chen      F     160     Sammy      56\n",
       "2    8    NaN    NaN        Yang      M     122      Kyan      26\n",
       "3    6    NaN    NaN        Yang      F     110     Janet      22\n",
       "4    4    NaN    NaN        Yang      M      90      Kyan      19"
      ]
     },
     "execution_count": 44,
     "metadata": {},
     "output_type": "execute_result"
    }
   ],
   "source": [
    "# You cannot alter its order\n",
    "family.append(blank)"
   ]
  },
  {
   "cell_type": "code",
   "execution_count": null,
   "metadata": {
    "collapsed": true
   },
   "outputs": [],
   "source": []
  }
 ],
 "metadata": {
  "kernelspec": {
   "display_name": "Python 3",
   "language": "python",
   "name": "python3"
  },
  "language_info": {
   "codemirror_mode": {
    "name": "ipython",
    "version": 3
   },
   "file_extension": ".py",
   "mimetype": "text/x-python",
   "name": "python",
   "nbconvert_exporter": "python",
   "pygments_lexer": "ipython3",
   "version": "3.6.1"
  }
 },
 "nbformat": 4,
 "nbformat_minor": 1
}
